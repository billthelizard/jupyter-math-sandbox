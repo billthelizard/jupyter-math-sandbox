{
 "cells": [
  {
   "cell_type": "markdown",
   "metadata": {},
   "source": [
    "# 固有値分解\n",
    "\n",
    "\n",
    "numpy.matrix\n",
    "https://docs.scipy.org/doc/numpy/reference/generated/numpy.matrix.html\n",
    "\n",
    "numpy.diag\n",
    "https://docs.scipy.org/doc/numpy/reference/generated/numpy.diag.html\n",
    "\n",
    "numpy.linalg.eig\n",
    "https://docs.scipy.org/doc/numpy/reference/generated/numpy.linalg.eig.html"
   ]
  },
  {
   "cell_type": "code",
   "execution_count": 1,
   "metadata": {},
   "outputs": [
    {
     "name": "stdout",
     "output_type": "stream",
     "text": [
      "1.16.2\n"
     ]
    }
   ],
   "source": [
    "import numpy as np\n",
    "\n",
    "print(np.__version__)"
   ]
  },
  {
   "cell_type": "code",
   "execution_count": 4,
   "metadata": {},
   "outputs": [
    {
     "name": "stdout",
     "output_type": "stream",
     "text": [
      "[[ 2  3  5  7]\n",
      " [11 13 17 19]\n",
      " [23 29 31 37]\n",
      " [41 43 47 53]]\n"
     ]
    }
   ],
   "source": [
    "A = np.matrix([[2,3,5,7],\n",
    "               [11,13,17,19],\n",
    "               [23,29,31,37],\n",
    "               [41,43,47,53]])\n",
    "\n",
    "print(A)"
   ]
  },
  {
   "cell_type": "code",
   "execution_count": 11,
   "metadata": {},
   "outputs": [],
   "source": [
    "from numpy import linalg as LA"
   ]
  },
  {
   "cell_type": "code",
   "execution_count": 13,
   "metadata": {},
   "outputs": [
    {
     "name": "stdout",
     "output_type": "stream",
     "text": [
      "[104.33603014  -4.54479131   1.02294627  -1.8141851 ]\n",
      "[[ 0.08851383  0.5100893   0.43683788  0.179836  ]\n",
      " [ 0.27543406  0.27501112 -0.43784015 -0.40940659]\n",
      " [ 0.5366094   0.25224171 -0.57398719  0.76267732]\n",
      " [ 0.79268641 -0.77495284  0.53666319 -0.46729923]]\n"
     ]
    }
   ],
   "source": [
    "w, v = LA.eig(A)\n",
    "\n",
    "print(w)\n",
    "print(v)"
   ]
  },
  {
   "cell_type": "code",
   "execution_count": 23,
   "metadata": {},
   "outputs": [
    {
     "name": "stdout",
     "output_type": "stream",
     "text": [
      "V * diag(w):\n",
      "[[ 9.23518165 -2.31824941  0.44686168 -0.32625579]\n",
      " [28.73769633 -1.24986815 -0.44788694  0.74273934]\n",
      " [55.98769408 -1.14638593 -0.58715806 -1.38363782]\n",
      " [82.70575268  3.52199896  0.54897761  0.84776729]]\n"
     ]
    }
   ],
   "source": [
    "V = np.matrix(v)\n",
    "W = np.diag(w)\n",
    "\n",
    "print('V * diag(w):\\n{}'.format(V*W))"
   ]
  },
  {
   "cell_type": "code",
   "execution_count": 21,
   "metadata": {},
   "outputs": [
    {
     "name": "stdout",
     "output_type": "stream",
     "text": [
      "A * V:\n",
      "[[ 9.23518165 -2.31824941  0.44686168 -0.32625579]\n",
      " [28.73769633 -1.24986815 -0.44788694  0.74273934]\n",
      " [55.98769408 -1.14638593 -0.58715806 -1.38363782]\n",
      " [82.70575268  3.52199896  0.54897761  0.84776729]]\n"
     ]
    }
   ],
   "source": [
    "print('A * V:\\n{}'.format(A*V))"
   ]
  },
  {
   "cell_type": "code",
   "execution_count": 24,
   "metadata": {},
   "outputs": [
    {
     "name": "stdout",
     "output_type": "stream",
     "text": [
      "diag(w) * V:\n",
      "[[ 9.23518165 53.2206924  45.57792977 18.76337432]\n",
      " [-1.25179032 -1.24986815  1.98989209  1.86066753]\n",
      " [ 0.54892258  0.25802971 -0.58715806  0.78017791]\n",
      " [-1.43807986  1.4059079  -0.97360636  0.84776729]]\n"
     ]
    }
   ],
   "source": [
    "print('diag(w) * V:\\n{}'.format(W*V))"
   ]
  },
  {
   "cell_type": "markdown",
   "metadata": {},
   "source": [
    "## 参考資料\n",
    "\n",
    "numpy.matrix\n",
    "https://docs.scipy.org/doc/numpy/reference/generated/numpy.matrix.html\n",
    "\n",
    "numpy.diag\n",
    "https://docs.scipy.org/doc/numpy/reference/generated/numpy.diag.html\n",
    "\n",
    "numpy.linalg.eig\n",
    "https://docs.scipy.org/doc/numpy/reference/generated/numpy.linalg.eig.html"
   ]
  }
 ],
 "metadata": {
  "kernelspec": {
   "display_name": "Python 3",
   "language": "python",
   "name": "python3"
  },
  "language_info": {
   "codemirror_mode": {
    "name": "ipython",
    "version": 3
   },
   "file_extension": ".py",
   "mimetype": "text/x-python",
   "name": "python",
   "nbconvert_exporter": "python",
   "pygments_lexer": "ipython3",
   "version": "3.7.3"
  }
 },
 "nbformat": 4,
 "nbformat_minor": 2
}
