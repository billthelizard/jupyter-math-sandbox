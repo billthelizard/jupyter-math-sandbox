{
 "cells": [
  {
   "cell_type": "markdown",
   "metadata": {},
   "source": [
    "# 行列の固有値分解の式をテンソルで理解する\n",
    "\n",
    "## 固有値分解のテンソル表現\n",
    "\n",
    "$$\n",
    "AV=V\\text{diag}(\\lambda) \\tag{1}\n",
    "$$\n",
    "\n",
    "をテンソル表記にすると、\n",
    "\n",
    "$$\n",
    "\\sum_j a_{i,j} v_{j,k} = \\sum_j v_{i,j} \\lambda_{j,k} \\tag{2}\n",
    "$$\n",
    "\n",
    "なお, $\\text{diag}(\\lambda)$ は固有値を対角要素に並べた行列で、以下のように定義した:\n",
    "\n",
    "$$\n",
    "\\text{diag}(\\lambda)_{j,k} := \\lambda_k \\text{ if } j = k, \\\\\n",
    "\\text{diag}(\\lambda)_{j,k} := 0 \\text{ otherwise.}\n",
    "$$\n",
    "\n",
    "(2)式を示す.\n",
    "\n",
    "### Proof\n",
    "\n",
    "行列 $A$ の固有ベクトルを $\\{v^{(1)},...,v^{(n)}\\}$, 固有値を $\\{\\lambda_1,...,\\lambda_n\\}$ とおく.\n",
    "固有値の定義 $Av^{(k)}=\\lambda_k v^{(k)}$ をテンソル表現にすると、 \n",
    "\n",
    "$$\\sum_j a_{i,j} v_j^{(k)} = \\lambda_kv_i^{(k)} \\tag{3}$$\n",
    "\n",
    "となる. いま、 $A$ の固有ベクトルを列ベクトルとして結合した行列 $V=\\{v_{i,k}\\} = v_i^{(k)}$ を導入すると、(3)式は\n",
    "\n",
    "$$\\sum_j a_{i,j} v_{j,k} = \\lambda_kv_{i,k} \\tag{4}$$\n",
    "\n",
    "と書き換えられる. 一方、 $\\text{diag}(\\lambda)$ の定義より、(2)式の右辺は $v_{i,k}\\lambda_k$ と表せるから、(4) 式よりこれは(2)式の左辺に等しい. $[\\text{QED}]$"
   ]
  }
 ],
 "metadata": {
  "kernelspec": {
   "display_name": "Python 3",
   "language": "python",
   "name": "python3"
  },
  "language_info": {
   "codemirror_mode": {
    "name": "ipython",
    "version": 3
   },
   "file_extension": ".py",
   "mimetype": "text/x-python",
   "name": "python",
   "nbconvert_exporter": "python",
   "pygments_lexer": "ipython3",
   "version": "3.7.3"
  }
 },
 "nbformat": 4,
 "nbformat_minor": 2
}
